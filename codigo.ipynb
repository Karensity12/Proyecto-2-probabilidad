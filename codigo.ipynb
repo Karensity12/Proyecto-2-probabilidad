{
 "cells": [
  {
   "cell_type": "markdown",
   "id": "24d70d19",
   "metadata": {},
   "source": [
    "<h3 style=\"color: pink;\">PROYECTO 2 ESTADÍSTICA</h3>"
   ]
  },
  {
   "cell_type": "markdown",
   "id": "eb2fce6a",
   "metadata": {},
   "source": [
    "<h4> Importación librerias"
   ]
  },
  {
   "cell_type": "code",
   "execution_count": 3,
   "id": "afeec923",
   "metadata": {},
   "outputs": [],
   "source": [
    "import pandas as pd\n",
    "import matplotlib.pyplot as plt\n",
    "import numpy as np\n",
    "import seaborn as sns\n",
    "import scipy.stats as stats"
   ]
  },
  {
   "cell_type": "markdown",
   "id": "d4461aa9",
   "metadata": {},
   "source": [
    "<h4>Funciones"
   ]
  },
  {
   "cell_type": "markdown",
   "id": "7ffcebda",
   "metadata": {},
   "source": [
    "<h10>En caso de que la columna no tome los valores como int o float los convierte a valores numéricos, luego convierte los valores NaN de una columna a su media."
   ]
  },
  {
   "cell_type": "markdown",
   "id": "5e804c28",
   "metadata": {},
   "source": [
    "<h10>Con el ingreso de una serie de datos, devuelve una lista con la media, mediana, moda, SD, MAD, varianza, IQR, CV y CVM."
   ]
  },
  {
   "cell_type": "code",
   "execution_count": 28,
   "id": "39053a32",
   "metadata": {},
   "outputs": [],
   "source": [
    "def informacion(dat,categorico=False):\n",
    "    lista = []    \n",
    "    if categorico == False:\n",
    "        # Intentamos tratar los datos como numéricos\n",
    "        dat = pd.to_numeric(dat)\n",
    "        lista.append(np.mean(dat))  # media\n",
    "        lista.append(np.median(dat))  # mediana\n",
    "        moda = dat.mode().iloc[0] if not dat.mode().empty else np.nan #Si no es categorico calcula la moda\n",
    "        lista.append(moda)\n",
    "        lista.append(np.std(dat))  # SD\n",
    "        lista.append(stats.median_abs_deviation(dat))  # MAD\n",
    "        lista.append(np.var(dat))  # Varianza\n",
    "        Q1 = np.percentile(dat, 25)\n",
    "        Q3 = np.percentile(dat, 75)\n",
    "        lista.append(Q3 - Q1)  # IQR\n",
    "        lista.append(dat.std(ddof=1) / dat.mean() * 100)  # CV\n",
    "        lista.append((stats.median_abs_deviation(dat)/ np.median(dat)) if np.median(dat) != 0 else np.nan)  # CVM\n",
    "    elif categorico == True:\n",
    "        lista = [np.nan] * 9  \n",
    "        lista[2] = dat.mode().iloc[0] if not dat.mode().empty else np.nan  \n",
    "    \n",
    "    return lista\n"
   ]
  },
  {
   "cell_type": "markdown",
   "id": "6a3866eb",
   "metadata": {},
   "source": [
    "<h10>Con el ingreso de una serie de datos, devuelve una lista con los datos atípicos y la cantidad de estos.  "
   ]
  },
  {
   "cell_type": "code",
   "execution_count": 5,
   "id": "d84bb2bf",
   "metadata": {},
   "outputs": [],
   "source": [
    "def atipicos (valor):  \n",
    "    atipico = []\n",
    "    valor = pd.to_numeric(valor)\n",
    "    Q1 = np.nanpercentile(valor,25)    \n",
    "    Q3 =np.nanpercentile(valor,75)\n",
    "    iqr = Q3-Q1\n",
    "\n",
    "    for x in valor:\n",
    "        if x < (Q1 - 1.5*iqr) :\n",
    "            atipico.append(x)\n",
    "        elif x > (Q3 + 1.5*iqr):\n",
    "            atipico.append(x)\n",
    "\n",
    "    cont = len(atipico)\n",
    "    return  cont,atipico"
   ]
  },
  {
   "cell_type": "markdown",
   "id": "74efe78f",
   "metadata": {},
   "source": [
    "<h10>Recibe una lista de variables y un dataframe. Muestra los datos atípicos y la cantidad para cada variable."
   ]
  },
  {
   "cell_type": "code",
   "execution_count": 6,
   "id": "3cea6ddb",
   "metadata": {},
   "outputs": [],
   "source": [
    "def mostrar_atipicos(lista : list, df):\n",
    "    for i in range(len(lista)):\n",
    "        cont,datos = atipicos(df[lista[i]])\n",
    "        print(f\"{lista[i]} tiene {cont} datos atipicos\")\n",
    "        print(\"Los datos atipicos son:\")\n",
    "        print(datos)"
   ]
  },
  {
   "cell_type": "markdown",
   "id": "5f2b1f33",
   "metadata": {},
   "source": [
    "Diccionario para almacenar las variables y sus índices (columnas del CSV)."
   ]
  },
  {
   "cell_type": "code",
   "execution_count": 17,
   "id": "32eddecf",
   "metadata": {},
   "outputs": [],
   "source": [
    "cols = {'aveOralM':115,\n",
    "'Gender':116, \n",
    "'Age':117, \n",
    "'Ethnicity':118,\n",
    "'T_atm':119, \n",
    "'Humidity':120,\n",
    "'Cosmetics':122, \n",
    "'Max1R13_1':3,\n",
    "'Max1R13_2':31,\n",
    "'Max1R13_3':59,\n",
    "'Max1R13_4': 87,\n",
    "'Max1L13_1':5,\n",
    "'Max1L13_2':33,\n",
    "'Max1L13_3':61,\n",
    "'Max1L13_4':89,\n",
    "'T_Max_1': 27,\n",
    "'T_Max_2': 55,\n",
    "'T_Max_3': 83,\n",
    "'T_Max_4': 111,\n",
    "'TF_HCC_1': 20,\n",
    "'TF_HCC_2': 48,\n",
    "'TF_HCC_3': 76,\n",
    "'TF_HCC_4': 104\n",
    "}"
   ]
  },
  {
   "cell_type": "code",
   "execution_count": 8,
   "id": "fdbea98d",
   "metadata": {},
   "outputs": [],
   "source": [
    "variables_numericas = [\n",
    "    'aveOralM',  \n",
    "    'T_atm', \n",
    "    'Humidity',\n",
    "    'PromMax1R13',\n",
    "    'PromMax1L13',\t\n",
    "    'PromT_Max',\n",
    "    'PromTF_HCC'\n",
    "]\n"
   ]
  },
  {
   "cell_type": "code",
   "execution_count": 9,
   "id": "d4efde5b",
   "metadata": {},
   "outputs": [],
   "source": [
    "variables_categoricas = ['Gender',\n",
    "'Age',\n",
    "'Ethnicity',\n",
    "'Cosmetics']"
   ]
  },
  {
   "cell_type": "markdown",
   "id": "d83a9d8c",
   "metadata": {},
   "source": [
    "Lectura de la base de  datos y conversión a DataFrame"
   ]
  },
  {
   "cell_type": "code",
   "execution_count": 10,
   "id": "2a8a8687",
   "metadata": {},
   "outputs": [],
   "source": [
    "csv = pd.read_csv(r'FLIR_groups1and2.csv', delimiter=';')\n",
    "csv = csv.iloc[2:].reset_index(drop=True)\n",
    " "
   ]
  },
  {
   "cell_type": "code",
   "execution_count": 25,
   "id": "6b5d26bc",
   "metadata": {},
   "outputs": [],
   "source": [
    "# Lista de columnas a extraer\n",
    "columnas = ['aveOralM', 'T_atm', 'Humidity', 'Gender', 'Age', 'Ethnicity', 'Cosmetics']\n",
    "indices = [cols[col] for col in columnas]\n",
    "\n",
    "csv_filter = csv.iloc[:, indices].copy()\n",
    "csv_filter.columns = columnas\n"
   ]
  },
  {
   "cell_type": "markdown",
   "id": "bd9afc41",
   "metadata": {},
   "source": [
    "Para **promediar las 4 zonas**, se crea una nueva función que:\n",
    " \n",
    "Extrae columnas desde un DataFrame según los índices dados,\n",
    "convierte a numérico, reemplaza NaNs con la media,\n",
    "y devuelve una Serie con el promedio por fila.\n",
    "    \n",
    "    Parámetros:\n",
    "    - df: DataFrame original.\n",
    "    - indices_dict: diccionario con los índices de columnas.\n",
    "    - nombres_cols: lista con las llaves a extraer del diccionario.\n",
    "    - nuevo_nombre: nombre para la nueva columna de promedio (usado externamente).\n",
    "\n"
   ]
  },
  {
   "cell_type": "code",
   "execution_count": 1,
   "id": "34291f70",
   "metadata": {},
   "outputs": [],
   "source": [
    "def extraer_y_promediar(df, indices_dict, nombres_cols):\n",
    "    columnas = [indices_dict[n] for n in nombres_cols]\n",
    "    data_temp = df.iloc[:, columnas].copy()\n",
    "    data_temp.columns = nombres_cols\n",
    "\n",
    "    for col in nombres_cols:\n",
    "        data_temp[col] = pd.to_numeric(data_temp[col], errors='coerce')\n",
    "        data_temp[col] = data_temp[col].fillna(data_temp[col].mean())\n",
    "\n",
    "    return data_temp.mean(axis=1)\n"
   ]
  },
  {
   "cell_type": "markdown",
   "id": "ecc4f100",
   "metadata": {},
   "source": [
    "Agregar las columnas de promedios al dataframe original"
   ]
  },
  {
   "cell_type": "code",
   "execution_count": 32,
   "id": "8701d86f",
   "metadata": {},
   "outputs": [],
   "source": [
    "csv_filter.loc[:, 'PromMax1R13'] = extraer_y_promediar(csv, cols, ['Max1R13_1','Max1R13_2','Max1R13_3','Max1R13_4'])\n",
    "csv_filter.loc[:, 'PromMax1L13'] = extraer_y_promediar(csv, cols, ['Max1L13_1','Max1L13_2','Max1L13_3','Max1L13_4'])\n",
    "csv_filter.loc[:, 'PromT_Max'] = extraer_y_promediar(csv, cols, ['T_Max_1','T_Max_2','T_Max_3','T_Max_4'])\n",
    "csv_filter.loc[:, 'PromTF_HCC'] = extraer_y_promediar(csv, cols, ['TF_HCC_1','TF_HCC_2','TF_HCC_3','TF_HCC_4'])"
   ]
  },
  {
   "cell_type": "markdown",
   "id": "4842f60c",
   "metadata": {},
   "source": [
    "Convierte los np.nan de la columna de cosmetics en string 'Nan' para evitar problemas al graficar"
   ]
  },
  {
   "cell_type": "code",
   "execution_count": null,
   "id": "41f5d06a",
   "metadata": {},
   "outputs": [],
   "source": [
    "csv_filter[\"Cosmetics\"] = csv_filter[\"Cosmetics\"].fillna('Nan')"
   ]
  },
  {
   "cell_type": "markdown",
   "id": "f41acac1",
   "metadata": {},
   "source": [
    "Convierte los valores de las columnas numéricas a floats o ints para evitar problemas al graficar"
   ]
  },
  {
   "cell_type": "code",
   "execution_count": 24,
   "id": "22c191fe",
   "metadata": {},
   "outputs": [],
   "source": [
    "for i in variables_numericas:\n",
    "    csv_filter[i] = pd.to_numeric(csv_filter[i],errors='coerce')"
   ]
  },
  {
   "cell_type": "markdown",
   "id": "2b9d437f",
   "metadata": {},
   "source": [
    "CSV con los datos de interés"
   ]
  },
  {
   "cell_type": "code",
   "execution_count": 23,
   "id": "9fa51c2f",
   "metadata": {},
   "outputs": [],
   "source": [
    "csv_filter.to_csv('FLIR_groups1and2_replace.csv',  sep=';', decimal=',',index=False)"
   ]
  },
  {
   "cell_type": "markdown",
   "id": "df9788ea",
   "metadata": {},
   "source": [
    "1. **Analisis exploratorio variables nuevas** "
   ]
  },
  {
   "cell_type": "code",
   "execution_count": 34,
   "id": "7c64bef0",
   "metadata": {},
   "outputs": [],
   "source": [
    "resultados = {'': [\"Media\", \"Mediana\", \"Moda\", \"SD\", \"MAD\", \"Varianza\", \"IQR\", \"CV\", \"CVM\"],    \n",
    "    'aveOralM': informacion(csv_filter['aveOralM']),\n",
    "    'Gender': informacion(csv_filter['Gender'], categorico=True),\n",
    "    'Age': informacion(csv_filter['Age'], categorico=True),\n",
    "    'Ethnicity': informacion(csv_filter['Ethnicity'], categorico=True), \n",
    "    'T_atm': informacion(csv_filter['T_atm']),\n",
    "    'Humidity': informacion(csv_filter['Humidity']),\n",
    "    'Cosmetics': informacion(csv_filter['Cosmetics'], categorico=True),\n",
    "    'PromMax1R13': informacion(csv_filter['PromMax1R13']),\n",
    "    'PromMax1L13': informacion(csv_filter['PromMax1L13']),\t\n",
    "    'PromT_Max': informacion(csv_filter['PromT_Max']),\n",
    "    'PromTF_HCC': informacion(csv_filter['PromTF_HCC'])\n",
    "}"
   ]
  },
  {
   "cell_type": "markdown",
   "id": "a5266abf",
   "metadata": {},
   "source": [
    "Convertir resultados a Df"
   ]
  },
  {
   "cell_type": "code",
   "execution_count": null,
   "id": "01626af2",
   "metadata": {},
   "outputs": [
    {
     "name": "stdout",
     "output_type": "stream",
     "text": [
      "Resumen estadístico completo:\n",
      "\n",
      "              aveOralM  Gender    Age Ethnicity      T_atm    Humidity  \\\n",
      "0     Media  37.028382     NaN    NaN       NaN  24.115392   28.723039   \n",
      "1   Mediana  36.940000     NaN    NaN       NaN  24.000000   26.300000   \n",
      "2      Moda  36.890000  Female  18-20     White  24.000000   30.000000   \n",
      "3        SD   0.509252     NaN    NaN       NaN   1.335682   13.065218   \n",
      "4       MAD   0.200000     NaN    NaN       NaN   0.600000    8.900000   \n",
      "5  Varianza   0.259338     NaN    NaN       NaN   1.784047  170.699910   \n",
      "6       IQR   0.362500     NaN    NaN       NaN   1.300000   18.600000   \n",
      "7        CV   1.375978     NaN    NaN       NaN   5.541430   45.509205   \n",
      "8       CVM   0.005414     NaN    NaN       NaN   0.025000    0.338403   \n",
      "\n",
      "  Cosmetics  PromMax1R13  PromMax1L13  PromT_Max  PromTF_HCC  \n",
      "0       NaN    35.597916    34.889475  35.809334   34.567550  \n",
      "1       NaN    35.550000    34.916250  35.798750   34.597500  \n",
      "2         0    35.677500    35.175000  36.032500   35.002500  \n",
      "3       NaN     0.564823     0.708276   0.547745    0.658736  \n",
      "4       NaN     0.302500     0.398750   0.308750    0.381250  \n",
      "5       NaN     0.319025     0.501655   0.300024    0.433933  \n",
      "6       NaN     0.603750     0.808129   0.603125    0.759479  \n",
      "7       NaN     1.587452     2.031052   1.530364    1.906583  \n",
      "8       NaN     0.008509     0.011420   0.008625    0.011020  \n"
     ]
    }
   ],
   "source": [
    "df_estadisticas = pd.DataFrame(resultados)\n",
    "print(\"Resumen estadístico completo:\\n\")\n",
    "print(df_estadisticas)"
   ]
  },
  {
   "cell_type": "markdown",
   "id": "34928942",
   "metadata": {},
   "source": [
    "**Comparación SD Y MAD**\n"
   ]
  },
  {
   "cell_type": "markdown",
   "id": "021a3e75",
   "metadata": {},
   "source": []
  }
 ],
 "metadata": {
  "kernelspec": {
   "display_name": "Python 3",
   "language": "python",
   "name": "python3"
  },
  "language_info": {
   "codemirror_mode": {
    "name": "ipython",
    "version": 3
   },
   "file_extension": ".py",
   "mimetype": "text/x-python",
   "name": "python",
   "nbconvert_exporter": "python",
   "pygments_lexer": "ipython3",
   "version": "3.11.4"
  }
 },
 "nbformat": 4,
 "nbformat_minor": 5
}
